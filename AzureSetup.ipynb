{
 "cells": [
  {
   "cell_type": "code",
   "execution_count": 3,
   "id": "eeae0714-981d-4c9b-a998-e1d41041e71c",
   "metadata": {},
   "outputs": [],
   "source": [
    "from azure.identity import AzureCliCredential\n",
    "from azure.keyvault.secrets import SecretClient\n",
    "\n",
    "# Azure Key Vault configuration\n",
    "key_vault_name = \"***\"\n",
    "secret_name = \"***\"\n",
    "\n",
    "key_vault_uri = f\"https://{key_vault_name}.vault.azure.net\"\n",
    "\n",
    "# Create a SecretClient using AzureCliCredential\n",
    "credential = AzureCliCredential()\n",
    "client = SecretClient(vault_url=key_vault_uri, credential=credential)\n",
    "\n",
    "# Retrieve the API key from Azure Key Vault\n",
    "api_key = client.get_secret(secret_name).value\n",
    "\n",
    "#print(f\"The API key is: {api_key}\")\n",
    "\n",
    "# Azure Key Vault configuration\n",
    "key_vault_name2 = \"***\"\n",
    "secret_name2 = \"***\"\n",
    "\n",
    "key_vault_uri2 = f\"https://{key_vault_name2}.vault.azure.net\"\n",
    "\n",
    "# Create a SecretClient using AzureCliCredential\n",
    "credential2 = AzureCliCredential()\n",
    "client2 = SecretClient(vault_url=key_vault_uri2, credential=credential2)\n",
    "\n",
    "# Retrieve the API key from Azure Key Vault\n",
    "api_key2 = client2.get_secret(secret_name2).value\n",
    "\n",
    "\n",
    "# Azure Key Vault configuration\n",
    "key_vault_name3 = \"***\"\n",
    "secret_name3 = \"***\"\n",
    "\n",
    "key_vault_uri = f\"https://{key_vault_name}.vault.azure.net\"\n",
    "\n",
    "# Create a SecretClient using AzureCliCredential\n",
    "credential = AzureCliCredential()\n",
    "client = SecretClient(vault_url=key_vault_uri, credential=credential)\n",
    "\n",
    "# Retrieve the API key from Azure Key Vault\n",
    "api_key3 = client.get_secret(secret_name3).value\n"
   ]
  },
  {
   "cell_type": "code",
   "execution_count": null,
   "id": "d5412e93-25da-44b7-b535-cc548200c4ef",
   "metadata": {},
   "outputs": [],
   "source": [
    "from azure.storage.blob import BlobServiceClient\n",
    "\n",
    "blob_service_client = BlobServiceClient.from_connection_string(api_key2)\n",
    "container_client_weather = blob_service_client.get_container_client(\"container1\\weatherdata\")\n",
    "container_client_air_pollution = blob_service_client.get_container_client(\"container1\\airpollutiondata\")\n",
    "                                                    "
   ]
  },
  {
   "cell_type": "code",
   "execution_count": null,
   "id": "df37657a-0221-40c6-99ab-e0a35ebc9891",
   "metadata": {},
   "outputs": [],
   "source": []
  }
 ],
 "metadata": {
  "kernelspec": {
   "display_name": "Python 3 (ipykernel)",
   "language": "python",
   "name": "python3"
  },
  "language_info": {
   "codemirror_mode": {
    "name": "ipython",
    "version": 3
   },
   "file_extension": ".py",
   "mimetype": "text/x-python",
   "name": "python",
   "nbconvert_exporter": "python",
   "pygments_lexer": "ipython3",
   "version": "3.11.5"
  }
 },
 "nbformat": 4,
 "nbformat_minor": 5
}
